{
 "cells": [
  {
   "cell_type": "code",
   "execution_count": 4,
   "metadata": {},
   "outputs": [
    {
     "name": "stdout",
     "output_type": "stream",
     "text": [
      "Requirement already satisfied: bokeh in f:\\software_installations_windowsc\\anaconda\\lib\\site-packages (1.4.0)\n",
      "Requirement already satisfied: tornado>=4.3 in f:\\software_installations_windowsc\\anaconda\\lib\\site-packages (from bokeh) (6.0.3)\n",
      "Requirement already satisfied: six>=1.5.2 in f:\\software_installations_windowsc\\anaconda\\lib\\site-packages (from bokeh) (1.14.0)\n",
      "Requirement already satisfied: python-dateutil>=2.1 in f:\\software_installations_windowsc\\anaconda\\lib\\site-packages (from bokeh) (2.8.1)\n",
      "Requirement already satisfied: pillow>=4.0 in f:\\software_installations_windowsc\\anaconda\\lib\\site-packages (from bokeh) (7.0.0)\n",
      "Requirement already satisfied: numpy>=1.7.1 in f:\\software_installations_windowsc\\anaconda\\lib\\site-packages (from bokeh) (1.18.1)\n",
      "Requirement already satisfied: PyYAML>=3.10 in f:\\software_installations_windowsc\\anaconda\\lib\\site-packages (from bokeh) (5.3)\n",
      "Requirement already satisfied: Jinja2>=2.7 in f:\\software_installations_windowsc\\anaconda\\lib\\site-packages (from bokeh) (2.11.1)\n",
      "Requirement already satisfied: packaging>=16.8 in f:\\software_installations_windowsc\\anaconda\\lib\\site-packages (from bokeh) (20.1)\n",
      "Requirement already satisfied: MarkupSafe>=0.23 in f:\\software_installations_windowsc\\anaconda\\lib\\site-packages (from Jinja2>=2.7->bokeh) (1.1.1)\n",
      "Requirement already satisfied: pyparsing>=2.0.2 in f:\\software_installations_windowsc\\anaconda\\lib\\site-packages (from packaging>=16.8->bokeh) (2.4.6)\n"
     ]
    }
   ],
   "source": [
    "# Install Bokeh package\n",
    "\n",
    "# Bokeh documentation - https://docs.bokeh.org/en/latest/docs/user_guide/tools.html\n",
    "\n",
    "\n",
    "! pip install bokeh"
   ]
  },
  {
   "cell_type": "code",
   "execution_count": 5,
   "metadata": {},
   "outputs": [],
   "source": [
    "# MAking a Basic Line Graph \n",
    "# importing Bokeh \n",
    "# Line, gids plot will be added to the figure object\n",
    "\n",
    "from bokeh.plotting import figure\n",
    "from bokeh.io import output_file, show\n",
    "\n",
    "# Prepare some data \n",
    "# List should have same length while plotting in the bokeh\n",
    "x = [1, 2, 3, 4, 5]\n",
    "y = [6,7,8,9,10]\n",
    "\n",
    "# prepare the output file \n",
    "output_file(\"Line.html\")\n",
    "\n",
    "# Create figure objects\n",
    "f = figure()\n",
    "\n",
    "# Create  line plot \n",
    "f.line(x,y)\n",
    "\n",
    "show(f)"
   ]
  },
  {
   "cell_type": "code",
   "execution_count": 6,
   "metadata": {},
   "outputs": [],
   "source": [
    "# Plotting the Trialgle \n",
    "\n",
    "from bokeh.plotting import figure\n",
    "from bokeh.io import output_file, show\n",
    " \n",
    "#prepare some data\n",
    "x=[3,7.5,10]\n",
    "y=[3,6,9]\n",
    " \n",
    "#prepare the output file\n",
    "output_file(\"Line.html\")\n",
    " \n",
    "#create a figure object\n",
    "f=figure()\n",
    " \n",
    "#create line plot\n",
    "f.triangle(x,y)\n",
    " \n",
    "#write the plot in the figure object\n",
    "show(f)"
   ]
  },
  {
   "cell_type": "code",
   "execution_count": 7,
   "metadata": {},
   "outputs": [],
   "source": [
    "# Plotting the Circles \n",
    "\n",
    "#importing Bokeh\n",
    "from bokeh.plotting import figure\n",
    "from bokeh.io import output_file, show\n",
    " \n",
    "#prepare some data\n",
    "x=[3,7.5,10]\n",
    "y=[3,6,9]\n",
    " \n",
    "#prepare the output file\n",
    "output_file(\"Line.html\")\n",
    " \n",
    "#create a figure object\n",
    "f=figure()\n",
    " \n",
    "#create line plot\n",
    "f.circle(x,y)\n",
    " \n",
    "#write the plot in the figure object\n",
    "show(f)"
   ]
  },
  {
   "cell_type": "code",
   "execution_count": 10,
   "metadata": {},
   "outputs": [],
   "source": [
    "#  Bokeh with the Pandas \n",
    "#importing Bokeh\n",
    "from bokeh.plotting import figure\n",
    "from bokeh.io import output_file, show\n",
    "import pandas  \n",
    "    \n",
    "#prepare some data\n",
    "df = pandas.read_csv(\"data.csv\")\n",
    "x = df[\"x\"]\n",
    "y = df[\"y\"]\n",
    "# x=[3,7.5,10]\n",
    "#y=[3,6,9]\n",
    " \n",
    "#prepare the output file\n",
    "output_file(\"Line.html\")\n",
    " \n",
    "#create a figure object\n",
    "f=figure()\n",
    " \n",
    "#create line plot\n",
    "f.line(x,y)\n",
    " \n",
    "#write the plot in the figure object\n",
    "show(f)\n",
    "\n"
   ]
  },
  {
   "cell_type": "code",
   "execution_count": 11,
   "metadata": {},
   "outputs": [
    {
     "data": {
      "text/plain": [
       "0    1\n",
       "1    2\n",
       "2    3\n",
       "3    4\n",
       "4    5\n",
       "Name: x, dtype: int64"
      ]
     },
     "execution_count": 11,
     "metadata": {},
     "output_type": "execute_result"
    }
   ],
   "source": [
    "df[\"x\"]"
   ]
  },
  {
   "cell_type": "code",
   "execution_count": 12,
   "metadata": {},
   "outputs": [
    {
     "data": {
      "text/plain": [
       "0     6\n",
       "1     7\n",
       "2     8\n",
       "3     9\n",
       "4    10\n",
       "Name: y, dtype: int64"
      ]
     },
     "execution_count": 12,
     "metadata": {},
     "output_type": "execute_result"
    }
   ],
   "source": [
    "df[\"y\"]"
   ]
  },
  {
   "cell_type": "code",
   "execution_count": 14,
   "metadata": {},
   "outputs": [],
   "source": [
    "#  Bokeh with the Pandas \n",
    "#importing Bokeh\n",
    "from bokeh.plotting import figure\n",
    "from bokeh.io import output_file, show\n",
    "import pandas  \n",
    "    \n",
    "#prepare some data\n",
    "df = pandas.read_csv(\"bachelors.csv\")\n",
    "x = df[\"Year\"]\n",
    "y = df[\"Engineering\"]\n",
    "# x=[3,7.5,10]\n",
    "#y=[3,6,9]\n",
    " \n",
    "#prepare the output file\n",
    "output_file(\"Line.html\")\n",
    " \n",
    "#create a figure object\n",
    "f=figure()\n",
    " \n",
    "#create line plot\n",
    "f.line(x,y)\n",
    " \n",
    "#write the plot in the figure object\n",
    "show(f)\n"
   ]
  },
  {
   "cell_type": "code",
   "execution_count": 15,
   "metadata": {},
   "outputs": [
    {
     "name": "stdout",
     "output_type": "stream",
     "text": [
      "Requirement already satisfied: openpyxl in f:\\software_installations_windowsc\\anaconda\\lib\\site-packages (3.0.3)\n",
      "Requirement already satisfied: jdcal in f:\\software_installations_windowsc\\anaconda\\lib\\site-packages (from openpyxl) (1.4.1)\n",
      "Requirement already satisfied: et-xmlfile in f:\\software_installations_windowsc\\anaconda\\lib\\site-packages (from openpyxl) (1.0.1)\n"
     ]
    }
   ],
   "source": [
    "! pip install openpyxl\n"
   ]
  },
  {
   "cell_type": "code",
   "execution_count": 16,
   "metadata": {},
   "outputs": [
    {
     "name": "stdout",
     "output_type": "stream",
     "text": [
      "Requirement already satisfied: xlrd in f:\\software_installations_windowsc\\anaconda\\lib\\site-packages (1.2.0)\n"
     ]
    }
   ],
   "source": [
    "! pip install xlrd"
   ]
  },
  {
   "cell_type": "code",
   "execution_count": 18,
   "metadata": {},
   "outputs": [],
   "source": [
    "#prepare some data\n",
    "df = pandas.read_excel(\"verlegenhuken.xlsx\")\n",
    "df[\"Temperature\"]=df[\"Temperature\"]/10\n",
    "df[\"Pressure\"]=df[\"Pressure\"]/10\n",
    "\n",
    "p=figure(plot_width=500,plot_height=400,tools='pan')\n",
    " \n",
    "p.title.text=\"Temperature and Air Pressure\"\n",
    "p.title.text_color=\"Gray\"\n",
    "p.title.text_font=\"arial\"\n",
    "p.title.text_font_style=\"bold\"\n",
    "p.xaxis.minor_tick_line_color=None\n",
    "p.yaxis.minor_tick_line_color=None\n",
    "p.xaxis.axis_label=\"Temperature (°C)\"\n",
    "p.yaxis.axis_label=\"Pressure (hPa)\"    \n",
    " \n",
    "p.circle(df[\"Temperature\"],df[\"Pressure\"],size=0.5)\n",
    "output_file(\"Weather.html\")\n",
    "show(p)\n"
   ]
  },
  {
   "cell_type": "code",
   "execution_count": null,
   "metadata": {},
   "outputs": [],
   "source": []
  }
 ],
 "metadata": {
  "kernelspec": {
   "display_name": "Python 3",
   "language": "python",
   "name": "python3"
  },
  "language_info": {
   "codemirror_mode": {
    "name": "ipython",
    "version": 3
   },
   "file_extension": ".py",
   "mimetype": "text/x-python",
   "name": "python",
   "nbconvert_exporter": "python",
   "pygments_lexer": "ipython3",
   "version": "3.7.6"
  }
 },
 "nbformat": 4,
 "nbformat_minor": 4
}
