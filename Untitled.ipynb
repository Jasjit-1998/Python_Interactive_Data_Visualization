{
 "cells": [
  {
   "cell_type": "code",
   "execution_count": 4,
   "metadata": {},
   "outputs": [
    {
     "name": "stdout",
     "output_type": "stream",
     "text": [
      "Requirement already satisfied: bokeh in f:\\software_installations_windowsc\\anaconda\\lib\\site-packages (1.4.0)\n",
      "Requirement already satisfied: tornado>=4.3 in f:\\software_installations_windowsc\\anaconda\\lib\\site-packages (from bokeh) (6.0.3)\n",
      "Requirement already satisfied: six>=1.5.2 in f:\\software_installations_windowsc\\anaconda\\lib\\site-packages (from bokeh) (1.14.0)\n",
      "Requirement already satisfied: python-dateutil>=2.1 in f:\\software_installations_windowsc\\anaconda\\lib\\site-packages (from bokeh) (2.8.1)\n",
      "Requirement already satisfied: pillow>=4.0 in f:\\software_installations_windowsc\\anaconda\\lib\\site-packages (from bokeh) (7.0.0)\n",
      "Requirement already satisfied: numpy>=1.7.1 in f:\\software_installations_windowsc\\anaconda\\lib\\site-packages (from bokeh) (1.18.1)\n",
      "Requirement already satisfied: PyYAML>=3.10 in f:\\software_installations_windowsc\\anaconda\\lib\\site-packages (from bokeh) (5.3)\n",
      "Requirement already satisfied: Jinja2>=2.7 in f:\\software_installations_windowsc\\anaconda\\lib\\site-packages (from bokeh) (2.11.1)\n",
      "Requirement already satisfied: packaging>=16.8 in f:\\software_installations_windowsc\\anaconda\\lib\\site-packages (from bokeh) (20.1)\n",
      "Requirement already satisfied: MarkupSafe>=0.23 in f:\\software_installations_windowsc\\anaconda\\lib\\site-packages (from Jinja2>=2.7->bokeh) (1.1.1)\n",
      "Requirement already satisfied: pyparsing>=2.0.2 in f:\\software_installations_windowsc\\anaconda\\lib\\site-packages (from packaging>=16.8->bokeh) (2.4.6)\n"
     ]
    }
   ],
   "source": [
    "# Install Bokeh package\n",
    "\n",
    "# Bokeh documentation - https://docs.bokeh.org/en/latest/docs/user_guide/tools.html\n",
    "\n",
    "\n",
    "! pip install bokeh"
   ]
  },
  {
   "cell_type": "code",
   "execution_count": 5,
   "metadata": {},
   "outputs": [],
   "source": [
    "# MAking a Basic Line Graph \n",
    "# importing Bokeh \n",
    "# Line, gids plot will be added to the figure object\n",
    "\n",
    "from bokeh.plotting import figure\n",
    "from bokeh.io import output_file, show\n",
    "\n",
    "# Prepare some data \n",
    "# List should have same length while plotting in the bokeh\n",
    "x = [1, 2, 3, 4, 5]\n",
    "y = [6,7,8,9,10]\n",
    "\n",
    "# prepare the output file \n",
    "output_file(\"Line.html\")\n",
    "\n",
    "# Create figure objects\n",
    "f = figure()\n",
    "\n",
    "# Create  line plot \n",
    "f.line(x,y)\n",
    "\n",
    "show(f)"
   ]
  },
  {
   "cell_type": "code",
   "execution_count": null,
   "metadata": {},
   "outputs": [],
   "source": []
  }
 ],
 "metadata": {
  "kernelspec": {
   "display_name": "Python 3",
   "language": "python",
   "name": "python3"
  },
  "language_info": {
   "codemirror_mode": {
    "name": "ipython",
    "version": 3
   },
   "file_extension": ".py",
   "mimetype": "text/x-python",
   "name": "python",
   "nbconvert_exporter": "python",
   "pygments_lexer": "ipython3",
   "version": "3.7.6"
  }
 },
 "nbformat": 4,
 "nbformat_minor": 4
}
